{
  "nbformat": 4,
  "nbformat_minor": 5,
  "metadata": {
    "kernelspec": {
      "display_name": "Python 3",
      "language": "python",
      "name": "python3"
    },
    "language_info": {
      "codemirror_mode": {
        "name": "ipython",
        "version": 3
      },
      "file_extension": ".py",
      "mimetype": "text/x-python",
      "name": "python",
      "nbconvert_exporter": "python",
      "pygments_lexer": "ipython3",
      "version": "3.8.8"
    },
    "colab": {
      "name": "Week6_Class2_SQL.ipynb",
      "provenance": [],
      "include_colab_link": true
    }
  },
  "cells": [
    {
      "cell_type": "markdown",
      "metadata": {
        "id": "view-in-github",
        "colab_type": "text"
      },
      "source": [
        "<a href=\"https://colab.research.google.com/github/Olumighty25/MyFirstColabNotebook/blob/master/Week6_Class2_SQL.ipynb\" target=\"_parent\"><img src=\"https://colab.research.google.com/assets/colab-badge.svg\" alt=\"Open In Colab\"/></a>"
      ]
    },
    {
      "cell_type": "code",
      "metadata": {
        "id": "51458cad",
        "outputId": "97530685-fe84-4d2f-f8b2-bb46bbe61146"
      },
      "source": [
        "# !pip install ipython-sql\n",
        "#!pip install ipython-sql"
      ],
      "id": "51458cad",
      "execution_count": null,
      "outputs": [
        {
          "name": "stdout",
          "output_type": "stream",
          "text": [
            "Requirement already satisfied: ipython-sql in c:\\users\\user\\anaconda3\\lib\\site-packages (0.4.0)\n",
            "Requirement already satisfied: ipython>=1.0 in c:\\users\\user\\anaconda3\\lib\\site-packages (from ipython-sql) (7.22.0)\n",
            "Requirement already satisfied: ipython-genutils>=0.1.0 in c:\\users\\user\\anaconda3\\lib\\site-packages (from ipython-sql) (0.2.0)\n",
            "Requirement already satisfied: sqlparse in c:\\users\\user\\anaconda3\\lib\\site-packages (from ipython-sql) (0.4.2)\n",
            "Requirement already satisfied: prettytable<1 in c:\\users\\user\\anaconda3\\lib\\site-packages (from ipython-sql) (0.7.2)\n",
            "Requirement already satisfied: sqlalchemy>=0.6.7 in c:\\users\\user\\anaconda3\\lib\\site-packages (from ipython-sql) (1.4.7)\n",
            "Requirement already satisfied: six in c:\\users\\user\\anaconda3\\lib\\site-packages (from ipython-sql) (1.15.0)\n",
            "Requirement already satisfied: pygments in c:\\users\\user\\anaconda3\\lib\\site-packages (from ipython>=1.0->ipython-sql) (2.8.1)\n",
            "Requirement already satisfied: decorator in c:\\users\\user\\anaconda3\\lib\\site-packages (from ipython>=1.0->ipython-sql) (5.0.6)\n",
            "Requirement already satisfied: colorama in c:\\users\\user\\anaconda3\\lib\\site-packages (from ipython>=1.0->ipython-sql) (0.4.4)\n",
            "Requirement already satisfied: prompt-toolkit!=3.0.0,!=3.0.1,<3.1.0,>=2.0.0 in c:\\users\\user\\anaconda3\\lib\\site-packages (from ipython>=1.0->ipython-sql) (3.0.17)\n",
            "Requirement already satisfied: jedi>=0.16 in c:\\users\\user\\anaconda3\\lib\\site-packages (from ipython>=1.0->ipython-sql) (0.17.2)\n",
            "Requirement already satisfied: setuptools>=18.5 in c:\\users\\user\\anaconda3\\lib\\site-packages (from ipython>=1.0->ipython-sql) (52.0.0.post20210125)\n",
            "Requirement already satisfied: pickleshare in c:\\users\\user\\anaconda3\\lib\\site-packages (from ipython>=1.0->ipython-sql) (0.7.5)\n",
            "Requirement already satisfied: traitlets>=4.2 in c:\\users\\user\\anaconda3\\lib\\site-packages (from ipython>=1.0->ipython-sql) (5.0.5)\n",
            "Requirement already satisfied: backcall in c:\\users\\user\\anaconda3\\lib\\site-packages (from ipython>=1.0->ipython-sql) (0.2.0)\n",
            "Requirement already satisfied: parso<0.8.0,>=0.7.0 in c:\\users\\user\\anaconda3\\lib\\site-packages (from jedi>=0.16->ipython>=1.0->ipython-sql) (0.7.0)\n",
            "Requirement already satisfied: wcwidth in c:\\users\\user\\anaconda3\\lib\\site-packages (from prompt-toolkit!=3.0.0,!=3.0.1,<3.1.0,>=2.0.0->ipython>=1.0->ipython-sql) (0.2.5)\n",
            "Requirement already satisfied: greenlet!=0.4.17 in c:\\users\\user\\anaconda3\\lib\\site-packages (from sqlalchemy>=0.6.7->ipython-sql) (1.0.0)\n"
          ]
        }
      ]
    },
    {
      "cell_type": "code",
      "metadata": {
        "id": "8ff76716"
      },
      "source": [
        "# Load the sql module\n",
        "%load_ext sql"
      ],
      "id": "8ff76716",
      "execution_count": 1,
      "outputs": []
    },
    {
      "cell_type": "markdown",
      "metadata": {
        "id": "cf0c30e5"
      },
      "source": [
        "# Create/connect to the database file"
      ],
      "id": "cf0c30e5"
    },
    {
      "cell_type": "code",
      "metadata": {
        "colab": {
          "base_uri": "https://localhost:8080/",
          "height": 35
        },
        "id": "e6d62277",
        "outputId": "0e8ebd13-e55a-4b0f-a59f-a307b80f7e01"
      },
      "source": [
        "%sql sqlite:///first.sqlite"
      ],
      "id": "e6d62277",
      "execution_count": 2,
      "outputs": [
        {
          "output_type": "execute_result",
          "data": {
            "application/vnd.google.colaboratory.intrinsic+json": {
              "type": "string"
            },
            "text/plain": [
              "'Connected: @first.sqlite'"
            ]
          },
          "metadata": {},
          "execution_count": 2
        }
      ]
    },
    {
      "cell_type": "code",
      "metadata": {
        "id": "5fbc5855"
      },
      "source": [
        "# %sqlite:///new.db3"
      ],
      "id": "5fbc5855",
      "execution_count": null,
      "outputs": []
    },
    {
      "cell_type": "code",
      "metadata": {
        "colab": {
          "base_uri": "https://localhost:8080/"
        },
        "id": "6a446d34",
        "outputId": "5e8dad62-7cd8-44ce-866a-0dac9b841a4e"
      },
      "source": [
        "%%sql\n",
        "\n",
        "--# drop any existing table in the database\n",
        "\n",
        "DROP TABLE IF EXISTS students;\n",
        "DROP TABLE IF EXISTS address;\n",
        "DROP TABLE IF EXISTS payments;"
      ],
      "id": "6a446d34",
      "execution_count": 4,
      "outputs": [
        {
          "output_type": "stream",
          "name": "stdout",
          "text": [
            " * sqlite:///first.sqlite\n",
            "Done.\n",
            "Done.\n",
            "Done.\n"
          ]
        },
        {
          "output_type": "execute_result",
          "data": {
            "text/plain": [
              "[]"
            ]
          },
          "metadata": {},
          "execution_count": 4
        }
      ]
    },
    {
      "cell_type": "markdown",
      "metadata": {
        "id": "23075d7b"
      },
      "source": [
        "# Checking the content of database"
      ],
      "id": "23075d7b"
    },
    {
      "cell_type": "code",
      "metadata": {
        "colab": {
          "base_uri": "https://localhost:8080/",
          "height": 73
        },
        "id": "b2z2GNcK3uoa",
        "outputId": "21068145-2931-4651-cabd-5de58ddc8fd2"
      },
      "source": [
        "%sql SELECT name FROM sqlite_master WHERE type='table';"
      ],
      "id": "b2z2GNcK3uoa",
      "execution_count": 8,
      "outputs": [
        {
          "output_type": "stream",
          "name": "stdout",
          "text": [
            " * sqlite:///first.sqlite\n",
            "Done.\n"
          ]
        },
        {
          "output_type": "execute_result",
          "data": {
            "text/html": [
              "<table>\n",
              "    <thead>\n",
              "        <tr>\n",
              "            <th>name</th>\n",
              "        </tr>\n",
              "    </thead>\n",
              "    <tbody>\n",
              "    </tbody>\n",
              "</table>"
            ],
            "text/plain": [
              "[]"
            ]
          },
          "metadata": {},
          "execution_count": 8
        }
      ]
    },
    {
      "cell_type": "markdown",
      "metadata": {
        "id": "c60882c0"
      },
      "source": [
        "# Creating the tables"
      ],
      "id": "c60882c0"
    },
    {
      "cell_type": "code",
      "metadata": {
        "colab": {
          "base_uri": "https://localhost:8080/"
        },
        "id": "d0f11b16",
        "outputId": "be56d63a-bd65-4cf5-e685-1b3adf517e3c"
      },
      "source": [
        "%%sql\n",
        "\n",
        "--#creating the students table\n",
        "\n",
        "CREATE TABLE students(SN INTEGER NOT NULL,\n",
        "                      registration_id TEXT PRIMARY KEY NOT NULL,\n",
        "                      firstName TEXT NOT NULL,\n",
        "                      lastName TEXT NOT NULL,\n",
        "                      age int NOT NULL\n",
        ");\n"
      ],
      "id": "d0f11b16",
      "execution_count": 9,
      "outputs": [
        {
          "output_type": "stream",
          "name": "stdout",
          "text": [
            " * sqlite:///first.sqlite\n",
            "Done.\n"
          ]
        },
        {
          "output_type": "execute_result",
          "data": {
            "text/plain": [
              "[]"
            ]
          },
          "metadata": {},
          "execution_count": 9
        }
      ]
    },
    {
      "cell_type": "code",
      "metadata": {
        "colab": {
          "base_uri": "https://localhost:8080/"
        },
        "id": "dbd70ad8",
        "outputId": "66a1b98f-dd81-46a3-cae9-f9c15f46642a"
      },
      "source": [
        "%%sql\n",
        "\n",
        "--# creating the address table\n",
        "\n",
        "CREATE TABLE address(\n",
        "    reg_id TEXT  NOT NULL, \n",
        "    house_number INTEGER NOT NULL,\n",
        "    street_name TEXT NOT NULL,\n",
        "    city TEXT NOT NULL,\n",
        "    FOREIGN KEY(reg_id) REFERENCES students(registration_id)\n",
        ");\n"
      ],
      "id": "dbd70ad8",
      "execution_count": 10,
      "outputs": [
        {
          "output_type": "stream",
          "name": "stdout",
          "text": [
            " * sqlite:///first.sqlite\n",
            "Done.\n"
          ]
        },
        {
          "output_type": "execute_result",
          "data": {
            "text/plain": [
              "[]"
            ]
          },
          "metadata": {},
          "execution_count": 10
        }
      ]
    },
    {
      "cell_type": "code",
      "metadata": {
        "colab": {
          "base_uri": "https://localhost:8080/"
        },
        "id": "42b6841a",
        "outputId": "091b75d4-51a3-4c3f-ffa1-0e6ae4cab523"
      },
      "source": [
        "%%sql\n",
        "--# creating the payments table\n",
        "CREATE TABLE payments(\n",
        "    payment_id TEXT  NOT NULL, \n",
        "    amount_paid INTEGER NOT NULL,\n",
        "    FOREIGN KEY(payment_id) REFERENCES students(registration_id)\n",
        ");\n"
      ],
      "id": "42b6841a",
      "execution_count": 11,
      "outputs": [
        {
          "output_type": "stream",
          "name": "stdout",
          "text": [
            " * sqlite:///first.sqlite\n",
            "Done.\n"
          ]
        },
        {
          "output_type": "execute_result",
          "data": {
            "text/plain": [
              "[]"
            ]
          },
          "metadata": {},
          "execution_count": 11
        }
      ]
    },
    {
      "cell_type": "markdown",
      "metadata": {
        "id": "2b40a562"
      },
      "source": [
        "# Checking the contents of the table"
      ],
      "id": "2b40a562"
    },
    {
      "cell_type": "code",
      "metadata": {
        "colab": {
          "base_uri": "https://localhost:8080/",
          "height": 73
        },
        "id": "946392e0",
        "outputId": "8aa2776d-377d-436d-a5d0-20d111cb5835"
      },
      "source": [
        "%%sql\n",
        "SELECT * FROM students;"
      ],
      "id": "946392e0",
      "execution_count": 12,
      "outputs": [
        {
          "output_type": "stream",
          "name": "stdout",
          "text": [
            " * sqlite:///first.sqlite\n",
            "Done.\n"
          ]
        },
        {
          "output_type": "execute_result",
          "data": {
            "text/html": [
              "<table>\n",
              "    <thead>\n",
              "        <tr>\n",
              "            <th>SN</th>\n",
              "            <th>registration_id</th>\n",
              "            <th>firstName</th>\n",
              "            <th>lastName</th>\n",
              "            <th>age</th>\n",
              "        </tr>\n",
              "    </thead>\n",
              "    <tbody>\n",
              "    </tbody>\n",
              "</table>"
            ],
            "text/plain": [
              "[]"
            ]
          },
          "metadata": {},
          "execution_count": 12
        }
      ]
    },
    {
      "cell_type": "code",
      "metadata": {
        "colab": {
          "base_uri": "https://localhost:8080/",
          "height": 73
        },
        "id": "de0f95ef",
        "outputId": "ae199257-66bf-4b59-9606-9f575ab60fba"
      },
      "source": [
        "%sql SELECT * FROM payments;"
      ],
      "id": "de0f95ef",
      "execution_count": 13,
      "outputs": [
        {
          "output_type": "stream",
          "name": "stdout",
          "text": [
            " * sqlite:///first.sqlite\n",
            "Done.\n"
          ]
        },
        {
          "output_type": "execute_result",
          "data": {
            "text/html": [
              "<table>\n",
              "    <thead>\n",
              "        <tr>\n",
              "            <th>payment_id</th>\n",
              "            <th>amount_paid</th>\n",
              "        </tr>\n",
              "    </thead>\n",
              "    <tbody>\n",
              "    </tbody>\n",
              "</table>"
            ],
            "text/plain": [
              "[]"
            ]
          },
          "metadata": {},
          "execution_count": 13
        }
      ]
    },
    {
      "cell_type": "code",
      "metadata": {
        "colab": {
          "base_uri": "https://localhost:8080/",
          "height": 73
        },
        "id": "809edb89",
        "outputId": "f6c2d855-eb4b-46cc-9c0d-f1384aab374b"
      },
      "source": [
        "%%sql\n",
        "SELECT * FROM address;"
      ],
      "id": "809edb89",
      "execution_count": 14,
      "outputs": [
        {
          "output_type": "stream",
          "name": "stdout",
          "text": [
            " * sqlite:///first.sqlite\n",
            "Done.\n"
          ]
        },
        {
          "output_type": "execute_result",
          "data": {
            "text/html": [
              "<table>\n",
              "    <thead>\n",
              "        <tr>\n",
              "            <th>reg_id</th>\n",
              "            <th>house_number</th>\n",
              "            <th>street_name</th>\n",
              "            <th>city</th>\n",
              "        </tr>\n",
              "    </thead>\n",
              "    <tbody>\n",
              "    </tbody>\n",
              "</table>"
            ],
            "text/plain": [
              "[]"
            ]
          },
          "metadata": {},
          "execution_count": 14
        }
      ]
    },
    {
      "cell_type": "markdown",
      "metadata": {
        "id": "32440de6"
      },
      "source": [
        "# Populating the tables"
      ],
      "id": "32440de6"
    },
    {
      "cell_type": "code",
      "metadata": {
        "colab": {
          "base_uri": "https://localhost:8080/"
        },
        "id": "213e2b53",
        "outputId": "19e51b4b-72cd-4928-d43c-4f551d3b8ab0"
      },
      "source": [
        "%%sql\n",
        "\n",
        "INSERT INTO students(SN, registration_id, firstName, lastName, age)\n",
        "    VALUES(1, 'YDEV/2019/001', 'James', 'Murphy', 25), (2, 'YDEV/2019/002', 'Anthony', 'Philip', 19),\n",
        "    (3, 'YDEV/2019/003', 'Timothy', 'Arinze', 36), (4, 'YDEV/2019/004', 'Anne', 'Kazeem', 21),\n",
        "    (5, 'YDEV/2019/005', 'Lope', 'Smith', 23), (6, 'YDEV/2019/006', 'Adeoba', 'Ajayi', 25),\n",
        "    (7, 'YDEV/2019/007', 'Franklin', 'Kayode', 15), (8, 'YDEV/2019/008', 'Abiola', 'Kabeeb', 26),\n",
        "    (9, 'YDEV/2019/009', 'Bashirat', 'Chidi', 18), (10, 'YDEV/2019/010', 'Dami', 'Ibraheem', 42),\n",
        "    (11, 'YDEV/2019/011', 'Adetokunbo', 'White', 23), (12, 'YDEV/2019/012', 'Udoaka', 'Alozie', 37),\n",
        "    (13, 'YDEV/2019/013', 'Whyte', 'Victor', 16), (14, 'YDEV/2019/014', 'Damilare', 'Clarke', 51),\n",
        "    (15, 'YDEV/2019/015', 'Ife', 'Kane', 33), (16, 'YDEV/2019/016', 'Sultan', 'Ebube', 19),\n",
        "    (17, 'YDEV/2019/017', 'Adesola', 'Dennis', 46), (18, 'YDEV/2019/018', 'Nonye', 'Mathiaz', 33),\n",
        "    (19, 'YDEV/2019/019', 'William', 'Hector', 65), (20, 'YDEV/2019/020', 'Yusuf', 'Gahandi', 44),\n",
        "    (21, 'YDEV/2019/021', 'Abosede', 'Graig', 14), (22, 'YDEV/2019/022', 'Whyte', 'Fatai', 20),\n",
        "    (23, 'YDEV/2019/023', 'Eniola', 'Galileo', 26), (24, 'YDEV/2019/024', 'Gbemi', 'Melone', 24);\n",
        "\n"
      ],
      "id": "213e2b53",
      "execution_count": 15,
      "outputs": [
        {
          "output_type": "stream",
          "name": "stdout",
          "text": [
            " * sqlite:///first.sqlite\n",
            "24 rows affected.\n"
          ]
        },
        {
          "output_type": "execute_result",
          "data": {
            "text/plain": [
              "[]"
            ]
          },
          "metadata": {},
          "execution_count": 15
        }
      ]
    },
    {
      "cell_type": "code",
      "metadata": {
        "colab": {
          "base_uri": "https://localhost:8080/",
          "height": 547
        },
        "id": "ff3f7c4e",
        "outputId": "47f34441-6079-4e08-ef7a-29c352e05194"
      },
      "source": [
        "%%sql\n",
        "SELECT * FROM students;"
      ],
      "id": "ff3f7c4e",
      "execution_count": 16,
      "outputs": [
        {
          "output_type": "stream",
          "name": "stdout",
          "text": [
            " * sqlite:///first.sqlite\n",
            "Done.\n"
          ]
        },
        {
          "output_type": "execute_result",
          "data": {
            "text/html": [
              "<table>\n",
              "    <thead>\n",
              "        <tr>\n",
              "            <th>SN</th>\n",
              "            <th>registration_id</th>\n",
              "            <th>firstName</th>\n",
              "            <th>lastName</th>\n",
              "            <th>age</th>\n",
              "        </tr>\n",
              "    </thead>\n",
              "    <tbody>\n",
              "        <tr>\n",
              "            <td>1</td>\n",
              "            <td>YDEV/2019/001</td>\n",
              "            <td>James</td>\n",
              "            <td>Murphy</td>\n",
              "            <td>25</td>\n",
              "        </tr>\n",
              "        <tr>\n",
              "            <td>2</td>\n",
              "            <td>YDEV/2019/002</td>\n",
              "            <td>Anthony</td>\n",
              "            <td>Philip</td>\n",
              "            <td>19</td>\n",
              "        </tr>\n",
              "        <tr>\n",
              "            <td>3</td>\n",
              "            <td>YDEV/2019/003</td>\n",
              "            <td>Timothy</td>\n",
              "            <td>Arinze</td>\n",
              "            <td>36</td>\n",
              "        </tr>\n",
              "        <tr>\n",
              "            <td>4</td>\n",
              "            <td>YDEV/2019/004</td>\n",
              "            <td>Anne</td>\n",
              "            <td>Kazeem</td>\n",
              "            <td>21</td>\n",
              "        </tr>\n",
              "        <tr>\n",
              "            <td>5</td>\n",
              "            <td>YDEV/2019/005</td>\n",
              "            <td>Lope</td>\n",
              "            <td>Smith</td>\n",
              "            <td>23</td>\n",
              "        </tr>\n",
              "        <tr>\n",
              "            <td>6</td>\n",
              "            <td>YDEV/2019/006</td>\n",
              "            <td>Adeoba</td>\n",
              "            <td>Ajayi</td>\n",
              "            <td>25</td>\n",
              "        </tr>\n",
              "        <tr>\n",
              "            <td>7</td>\n",
              "            <td>YDEV/2019/007</td>\n",
              "            <td>Franklin</td>\n",
              "            <td>Kayode</td>\n",
              "            <td>15</td>\n",
              "        </tr>\n",
              "        <tr>\n",
              "            <td>8</td>\n",
              "            <td>YDEV/2019/008</td>\n",
              "            <td>Abiola</td>\n",
              "            <td>Kabeeb</td>\n",
              "            <td>26</td>\n",
              "        </tr>\n",
              "        <tr>\n",
              "            <td>9</td>\n",
              "            <td>YDEV/2019/009</td>\n",
              "            <td>Bashirat</td>\n",
              "            <td>Chidi</td>\n",
              "            <td>18</td>\n",
              "        </tr>\n",
              "        <tr>\n",
              "            <td>10</td>\n",
              "            <td>YDEV/2019/010</td>\n",
              "            <td>Dami</td>\n",
              "            <td>Ibraheem</td>\n",
              "            <td>42</td>\n",
              "        </tr>\n",
              "        <tr>\n",
              "            <td>11</td>\n",
              "            <td>YDEV/2019/011</td>\n",
              "            <td>Adetokunbo</td>\n",
              "            <td>White</td>\n",
              "            <td>23</td>\n",
              "        </tr>\n",
              "        <tr>\n",
              "            <td>12</td>\n",
              "            <td>YDEV/2019/012</td>\n",
              "            <td>Udoaka</td>\n",
              "            <td>Alozie</td>\n",
              "            <td>37</td>\n",
              "        </tr>\n",
              "        <tr>\n",
              "            <td>13</td>\n",
              "            <td>YDEV/2019/013</td>\n",
              "            <td>Whyte</td>\n",
              "            <td>Victor</td>\n",
              "            <td>16</td>\n",
              "        </tr>\n",
              "        <tr>\n",
              "            <td>14</td>\n",
              "            <td>YDEV/2019/014</td>\n",
              "            <td>Damilare</td>\n",
              "            <td>Clarke</td>\n",
              "            <td>51</td>\n",
              "        </tr>\n",
              "        <tr>\n",
              "            <td>15</td>\n",
              "            <td>YDEV/2019/015</td>\n",
              "            <td>Ife</td>\n",
              "            <td>Kane</td>\n",
              "            <td>33</td>\n",
              "        </tr>\n",
              "        <tr>\n",
              "            <td>16</td>\n",
              "            <td>YDEV/2019/016</td>\n",
              "            <td>Sultan</td>\n",
              "            <td>Ebube</td>\n",
              "            <td>19</td>\n",
              "        </tr>\n",
              "        <tr>\n",
              "            <td>17</td>\n",
              "            <td>YDEV/2019/017</td>\n",
              "            <td>Adesola</td>\n",
              "            <td>Dennis</td>\n",
              "            <td>46</td>\n",
              "        </tr>\n",
              "        <tr>\n",
              "            <td>18</td>\n",
              "            <td>YDEV/2019/018</td>\n",
              "            <td>Nonye</td>\n",
              "            <td>Mathiaz</td>\n",
              "            <td>33</td>\n",
              "        </tr>\n",
              "        <tr>\n",
              "            <td>19</td>\n",
              "            <td>YDEV/2019/019</td>\n",
              "            <td>William</td>\n",
              "            <td>Hector</td>\n",
              "            <td>65</td>\n",
              "        </tr>\n",
              "        <tr>\n",
              "            <td>20</td>\n",
              "            <td>YDEV/2019/020</td>\n",
              "            <td>Yusuf</td>\n",
              "            <td>Gahandi</td>\n",
              "            <td>44</td>\n",
              "        </tr>\n",
              "        <tr>\n",
              "            <td>21</td>\n",
              "            <td>YDEV/2019/021</td>\n",
              "            <td>Abosede</td>\n",
              "            <td>Graig</td>\n",
              "            <td>14</td>\n",
              "        </tr>\n",
              "        <tr>\n",
              "            <td>22</td>\n",
              "            <td>YDEV/2019/022</td>\n",
              "            <td>Whyte</td>\n",
              "            <td>Fatai</td>\n",
              "            <td>20</td>\n",
              "        </tr>\n",
              "        <tr>\n",
              "            <td>23</td>\n",
              "            <td>YDEV/2019/023</td>\n",
              "            <td>Eniola</td>\n",
              "            <td>Galileo</td>\n",
              "            <td>26</td>\n",
              "        </tr>\n",
              "        <tr>\n",
              "            <td>24</td>\n",
              "            <td>YDEV/2019/024</td>\n",
              "            <td>Gbemi</td>\n",
              "            <td>Melone</td>\n",
              "            <td>24</td>\n",
              "        </tr>\n",
              "    </tbody>\n",
              "</table>"
            ],
            "text/plain": [
              "[(1, 'YDEV/2019/001', 'James', 'Murphy', 25),\n",
              " (2, 'YDEV/2019/002', 'Anthony', 'Philip', 19),\n",
              " (3, 'YDEV/2019/003', 'Timothy', 'Arinze', 36),\n",
              " (4, 'YDEV/2019/004', 'Anne', 'Kazeem', 21),\n",
              " (5, 'YDEV/2019/005', 'Lope', 'Smith', 23),\n",
              " (6, 'YDEV/2019/006', 'Adeoba', 'Ajayi', 25),\n",
              " (7, 'YDEV/2019/007', 'Franklin', 'Kayode', 15),\n",
              " (8, 'YDEV/2019/008', 'Abiola', 'Kabeeb', 26),\n",
              " (9, 'YDEV/2019/009', 'Bashirat', 'Chidi', 18),\n",
              " (10, 'YDEV/2019/010', 'Dami', 'Ibraheem', 42),\n",
              " (11, 'YDEV/2019/011', 'Adetokunbo', 'White', 23),\n",
              " (12, 'YDEV/2019/012', 'Udoaka', 'Alozie', 37),\n",
              " (13, 'YDEV/2019/013', 'Whyte', 'Victor', 16),\n",
              " (14, 'YDEV/2019/014', 'Damilare', 'Clarke', 51),\n",
              " (15, 'YDEV/2019/015', 'Ife', 'Kane', 33),\n",
              " (16, 'YDEV/2019/016', 'Sultan', 'Ebube', 19),\n",
              " (17, 'YDEV/2019/017', 'Adesola', 'Dennis', 46),\n",
              " (18, 'YDEV/2019/018', 'Nonye', 'Mathiaz', 33),\n",
              " (19, 'YDEV/2019/019', 'William', 'Hector', 65),\n",
              " (20, 'YDEV/2019/020', 'Yusuf', 'Gahandi', 44),\n",
              " (21, 'YDEV/2019/021', 'Abosede', 'Graig', 14),\n",
              " (22, 'YDEV/2019/022', 'Whyte', 'Fatai', 20),\n",
              " (23, 'YDEV/2019/023', 'Eniola', 'Galileo', 26),\n",
              " (24, 'YDEV/2019/024', 'Gbemi', 'Melone', 24)]"
            ]
          },
          "metadata": {},
          "execution_count": 16
        }
      ]
    },
    {
      "cell_type": "code",
      "metadata": {
        "colab": {
          "base_uri": "https://localhost:8080/"
        },
        "id": "5c286cc6",
        "outputId": "8c1574cc-3436-42a0-f6d5-04d1e58cb66c"
      },
      "source": [
        "%%sql\n",
        "\n",
        "INSERT INTO students(SN, registration_id, firstName, lastName, age)\n",
        "    VALUES(25, 'YDEV/2019/025', 'Olumide', 'Olaoye', 26);\n"
      ],
      "id": "5c286cc6",
      "execution_count": 17,
      "outputs": [
        {
          "output_type": "stream",
          "name": "stdout",
          "text": [
            " * sqlite:///first.sqlite\n",
            "1 rows affected.\n"
          ]
        },
        {
          "output_type": "execute_result",
          "data": {
            "text/plain": [
              "[]"
            ]
          },
          "metadata": {},
          "execution_count": 17
        }
      ]
    },
    {
      "cell_type": "code",
      "metadata": {
        "colab": {
          "base_uri": "https://localhost:8080/",
          "height": 567
        },
        "id": "bff62598",
        "outputId": "029d1f23-1e26-4a57-c296-e09f959ca3c0"
      },
      "source": [
        "%%sql\n",
        "\n",
        "SELECT * FROM students;"
      ],
      "id": "bff62598",
      "execution_count": 18,
      "outputs": [
        {
          "output_type": "stream",
          "name": "stdout",
          "text": [
            " * sqlite:///first.sqlite\n",
            "Done.\n"
          ]
        },
        {
          "output_type": "execute_result",
          "data": {
            "text/html": [
              "<table>\n",
              "    <thead>\n",
              "        <tr>\n",
              "            <th>SN</th>\n",
              "            <th>registration_id</th>\n",
              "            <th>firstName</th>\n",
              "            <th>lastName</th>\n",
              "            <th>age</th>\n",
              "        </tr>\n",
              "    </thead>\n",
              "    <tbody>\n",
              "        <tr>\n",
              "            <td>1</td>\n",
              "            <td>YDEV/2019/001</td>\n",
              "            <td>James</td>\n",
              "            <td>Murphy</td>\n",
              "            <td>25</td>\n",
              "        </tr>\n",
              "        <tr>\n",
              "            <td>2</td>\n",
              "            <td>YDEV/2019/002</td>\n",
              "            <td>Anthony</td>\n",
              "            <td>Philip</td>\n",
              "            <td>19</td>\n",
              "        </tr>\n",
              "        <tr>\n",
              "            <td>3</td>\n",
              "            <td>YDEV/2019/003</td>\n",
              "            <td>Timothy</td>\n",
              "            <td>Arinze</td>\n",
              "            <td>36</td>\n",
              "        </tr>\n",
              "        <tr>\n",
              "            <td>4</td>\n",
              "            <td>YDEV/2019/004</td>\n",
              "            <td>Anne</td>\n",
              "            <td>Kazeem</td>\n",
              "            <td>21</td>\n",
              "        </tr>\n",
              "        <tr>\n",
              "            <td>5</td>\n",
              "            <td>YDEV/2019/005</td>\n",
              "            <td>Lope</td>\n",
              "            <td>Smith</td>\n",
              "            <td>23</td>\n",
              "        </tr>\n",
              "        <tr>\n",
              "            <td>6</td>\n",
              "            <td>YDEV/2019/006</td>\n",
              "            <td>Adeoba</td>\n",
              "            <td>Ajayi</td>\n",
              "            <td>25</td>\n",
              "        </tr>\n",
              "        <tr>\n",
              "            <td>7</td>\n",
              "            <td>YDEV/2019/007</td>\n",
              "            <td>Franklin</td>\n",
              "            <td>Kayode</td>\n",
              "            <td>15</td>\n",
              "        </tr>\n",
              "        <tr>\n",
              "            <td>8</td>\n",
              "            <td>YDEV/2019/008</td>\n",
              "            <td>Abiola</td>\n",
              "            <td>Kabeeb</td>\n",
              "            <td>26</td>\n",
              "        </tr>\n",
              "        <tr>\n",
              "            <td>9</td>\n",
              "            <td>YDEV/2019/009</td>\n",
              "            <td>Bashirat</td>\n",
              "            <td>Chidi</td>\n",
              "            <td>18</td>\n",
              "        </tr>\n",
              "        <tr>\n",
              "            <td>10</td>\n",
              "            <td>YDEV/2019/010</td>\n",
              "            <td>Dami</td>\n",
              "            <td>Ibraheem</td>\n",
              "            <td>42</td>\n",
              "        </tr>\n",
              "        <tr>\n",
              "            <td>11</td>\n",
              "            <td>YDEV/2019/011</td>\n",
              "            <td>Adetokunbo</td>\n",
              "            <td>White</td>\n",
              "            <td>23</td>\n",
              "        </tr>\n",
              "        <tr>\n",
              "            <td>12</td>\n",
              "            <td>YDEV/2019/012</td>\n",
              "            <td>Udoaka</td>\n",
              "            <td>Alozie</td>\n",
              "            <td>37</td>\n",
              "        </tr>\n",
              "        <tr>\n",
              "            <td>13</td>\n",
              "            <td>YDEV/2019/013</td>\n",
              "            <td>Whyte</td>\n",
              "            <td>Victor</td>\n",
              "            <td>16</td>\n",
              "        </tr>\n",
              "        <tr>\n",
              "            <td>14</td>\n",
              "            <td>YDEV/2019/014</td>\n",
              "            <td>Damilare</td>\n",
              "            <td>Clarke</td>\n",
              "            <td>51</td>\n",
              "        </tr>\n",
              "        <tr>\n",
              "            <td>15</td>\n",
              "            <td>YDEV/2019/015</td>\n",
              "            <td>Ife</td>\n",
              "            <td>Kane</td>\n",
              "            <td>33</td>\n",
              "        </tr>\n",
              "        <tr>\n",
              "            <td>16</td>\n",
              "            <td>YDEV/2019/016</td>\n",
              "            <td>Sultan</td>\n",
              "            <td>Ebube</td>\n",
              "            <td>19</td>\n",
              "        </tr>\n",
              "        <tr>\n",
              "            <td>17</td>\n",
              "            <td>YDEV/2019/017</td>\n",
              "            <td>Adesola</td>\n",
              "            <td>Dennis</td>\n",
              "            <td>46</td>\n",
              "        </tr>\n",
              "        <tr>\n",
              "            <td>18</td>\n",
              "            <td>YDEV/2019/018</td>\n",
              "            <td>Nonye</td>\n",
              "            <td>Mathiaz</td>\n",
              "            <td>33</td>\n",
              "        </tr>\n",
              "        <tr>\n",
              "            <td>19</td>\n",
              "            <td>YDEV/2019/019</td>\n",
              "            <td>William</td>\n",
              "            <td>Hector</td>\n",
              "            <td>65</td>\n",
              "        </tr>\n",
              "        <tr>\n",
              "            <td>20</td>\n",
              "            <td>YDEV/2019/020</td>\n",
              "            <td>Yusuf</td>\n",
              "            <td>Gahandi</td>\n",
              "            <td>44</td>\n",
              "        </tr>\n",
              "        <tr>\n",
              "            <td>21</td>\n",
              "            <td>YDEV/2019/021</td>\n",
              "            <td>Abosede</td>\n",
              "            <td>Graig</td>\n",
              "            <td>14</td>\n",
              "        </tr>\n",
              "        <tr>\n",
              "            <td>22</td>\n",
              "            <td>YDEV/2019/022</td>\n",
              "            <td>Whyte</td>\n",
              "            <td>Fatai</td>\n",
              "            <td>20</td>\n",
              "        </tr>\n",
              "        <tr>\n",
              "            <td>23</td>\n",
              "            <td>YDEV/2019/023</td>\n",
              "            <td>Eniola</td>\n",
              "            <td>Galileo</td>\n",
              "            <td>26</td>\n",
              "        </tr>\n",
              "        <tr>\n",
              "            <td>24</td>\n",
              "            <td>YDEV/2019/024</td>\n",
              "            <td>Gbemi</td>\n",
              "            <td>Melone</td>\n",
              "            <td>24</td>\n",
              "        </tr>\n",
              "        <tr>\n",
              "            <td>25</td>\n",
              "            <td>YDEV/2019/025</td>\n",
              "            <td>Olumide</td>\n",
              "            <td>Olaoye</td>\n",
              "            <td>26</td>\n",
              "        </tr>\n",
              "    </tbody>\n",
              "</table>"
            ],
            "text/plain": [
              "[(1, 'YDEV/2019/001', 'James', 'Murphy', 25),\n",
              " (2, 'YDEV/2019/002', 'Anthony', 'Philip', 19),\n",
              " (3, 'YDEV/2019/003', 'Timothy', 'Arinze', 36),\n",
              " (4, 'YDEV/2019/004', 'Anne', 'Kazeem', 21),\n",
              " (5, 'YDEV/2019/005', 'Lope', 'Smith', 23),\n",
              " (6, 'YDEV/2019/006', 'Adeoba', 'Ajayi', 25),\n",
              " (7, 'YDEV/2019/007', 'Franklin', 'Kayode', 15),\n",
              " (8, 'YDEV/2019/008', 'Abiola', 'Kabeeb', 26),\n",
              " (9, 'YDEV/2019/009', 'Bashirat', 'Chidi', 18),\n",
              " (10, 'YDEV/2019/010', 'Dami', 'Ibraheem', 42),\n",
              " (11, 'YDEV/2019/011', 'Adetokunbo', 'White', 23),\n",
              " (12, 'YDEV/2019/012', 'Udoaka', 'Alozie', 37),\n",
              " (13, 'YDEV/2019/013', 'Whyte', 'Victor', 16),\n",
              " (14, 'YDEV/2019/014', 'Damilare', 'Clarke', 51),\n",
              " (15, 'YDEV/2019/015', 'Ife', 'Kane', 33),\n",
              " (16, 'YDEV/2019/016', 'Sultan', 'Ebube', 19),\n",
              " (17, 'YDEV/2019/017', 'Adesola', 'Dennis', 46),\n",
              " (18, 'YDEV/2019/018', 'Nonye', 'Mathiaz', 33),\n",
              " (19, 'YDEV/2019/019', 'William', 'Hector', 65),\n",
              " (20, 'YDEV/2019/020', 'Yusuf', 'Gahandi', 44),\n",
              " (21, 'YDEV/2019/021', 'Abosede', 'Graig', 14),\n",
              " (22, 'YDEV/2019/022', 'Whyte', 'Fatai', 20),\n",
              " (23, 'YDEV/2019/023', 'Eniola', 'Galileo', 26),\n",
              " (24, 'YDEV/2019/024', 'Gbemi', 'Melone', 24),\n",
              " (25, 'YDEV/2019/025', 'Olumide', 'Olaoye', 26)]"
            ]
          },
          "metadata": {},
          "execution_count": 18
        }
      ]
    },
    {
      "cell_type": "code",
      "metadata": {
        "id": "9e151087"
      },
      "source": [
        ""
      ],
      "id": "9e151087",
      "execution_count": null,
      "outputs": []
    }
  ]
}